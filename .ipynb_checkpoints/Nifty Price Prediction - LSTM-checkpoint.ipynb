{
 "cells": [
  {
   "cell_type": "code",
   "execution_count": 1,
   "metadata": {},
   "outputs": [],
   "source": [
    "import numpy as np\n",
    "import matplotlib.pyplot as plt\n",
    "import pandas as pd"
   ]
  },
  {
   "cell_type": "markdown",
   "metadata": {},
   "source": [
    "In the following code, we have input the dataset. The dataset contains the nifty price from January 2009 to December 2018. We shall be training the dataset and then predicting it on the year 2019."
   ]
  },
  {
   "cell_type": "code",
   "execution_count": 2,
   "metadata": {},
   "outputs": [],
   "source": [
    "url = 'https://raw.githubusercontent.com/imi-insight/Nifty-prediction-with-Arima-and-lstm/master/Nifty%2050%20Historical%20Data_Train.csv'\n",
    "dataset_train = pd.read_csv(url)\n",
    "training_set = dataset_train.iloc[:, 1:2].values"
   ]
  },
  {
   "cell_type": "markdown",
   "metadata": {},
   "source": [
    "# Feature Scaling"
   ]
  },
  {
   "cell_type": "markdown",
   "metadata": {},
   "source": [
    "While performing Neural Networks, it is absolutely essential to perform feature scaling on the dataset. The reason for this being that in Neural Network, the key step, the gradient descent works much faster when feature scaling is done. Feature scaling also ensures that each data will more or less contribute equally to the final result."
   ]
  },
  {
   "cell_type": "markdown",
   "metadata": {},
   "source": [
    "We have done feature scaling here by using the min max scaler. This is the most widely used feature scaling technique while performing neural networks. It is so because if the distribution of data does not follow a Guassian distribution, this type of feature scaling brings the data within the range of 0 to 1."
   ]
  },
  {
   "cell_type": "code",
   "execution_count": 3,
   "metadata": {},
   "outputs": [],
   "source": [
    "from sklearn.preprocessing import MinMaxScaler\n",
    "sc = MinMaxScaler(feature_range = (0, 1))\n",
    "training_set_scaled = sc.fit_transform(training_set)"
   ]
  },
  {
   "cell_type": "markdown",
   "metadata": {},
   "source": [
    "Now we have to create the dataset with 60 time steps and 1 output. To do so, we have used the for loop. 2575 is the length of the dataset. We hve finally creaated an array with all the values in the following step."
   ]
  },
  {
   "cell_type": "code",
   "execution_count": 5,
   "metadata": {},
   "outputs": [],
   "source": [
    "X_train = []\n",
    "y_train = []\n",
    "for i in range(60, 2475):\n",
    "    X_train.append(training_set_scaled[i-60:i, 0])\n",
    "    y_train.append(training_set_scaled[i, 0])\n",
    "X_train, y_train = np.array(X_train), np.array(y_train)"
   ]
  },
  {
   "cell_type": "markdown",
   "metadata": {},
   "source": [
    "Next we shall be reshaping the dataset. That is being done because neural networks take in the data within a particular shape."
   ]
  },
  {
   "cell_type": "code",
   "execution_count": 6,
   "metadata": {},
   "outputs": [],
   "source": [
    "X_train = np.reshape(X_train, (X_train.shape[0], X_train.shape[1], 1))"
   ]
  },
  {
   "cell_type": "markdown",
   "metadata": {},
   "source": [
    "# Building and Training the RNN"
   ]
  },
  {
   "cell_type": "markdown",
   "metadata": {},
   "source": [
    "We shall be importing the liraries to perform neural networks in python. Keras is a super powerful library which helps in building Neural Networks. It was initially built upon seperately but now Tensor Flow has incorporated it within itself."
   ]
  },
  {
   "cell_type": "code",
   "execution_count": 7,
   "metadata": {},
   "outputs": [
    {
     "name": "stderr",
     "output_type": "stream",
     "text": [
      "Using TensorFlow backend.\n"
     ]
    }
   ],
   "source": [
    "from keras.models import Sequential\n",
    "from keras.layers import Dense\n",
    "from keras.layers import LSTM\n",
    "from keras.layers import Dropout"
   ]
  },
  {
   "cell_type": "markdown",
   "metadata": {},
   "source": [
    "regressor - It is the variable we have assigned for the Neural Network.\n",
    "\n",
    "Sequential - A sequential model is used because the neural network that we have tried to build here is a plain stack of layers with each layer having exactly one input tensor and one output tensor."
   ]
  },
  {
   "cell_type": "code",
   "execution_count": 9,
   "metadata": {},
   "outputs": [],
   "source": [
    "regressor = Sequential()"
   ]
  },
  {
   "cell_type": "markdown",
   "metadata": {},
   "source": [
    "## Adding the first layer"
   ]
  },
  {
   "cell_type": "code",
   "execution_count": 10,
   "metadata": {},
   "outputs": [],
   "source": [
    "regressor.add(LSTM(units = 50, return_sequences = True, input_shape = (X_train.shape[1], 1)))\n",
    "regressor.add(Dropout(0.2))"
   ]
  },
  {
   "cell_type": "markdown",
   "metadata": {},
   "source": [
    "Before we add the second layer, a few terms in the above code and the following few codes need to be explained.\n",
    "The return sequences in teh above code makes sure that the layer will return its output back into the network. This helps the RNN to build a memory for itself.\n",
    "Input shape is the same as the dimensions of the file we got after reshapingin the code above.\n",
    "Units - It is the dimensionality of the output space. It refers to the output of the hidden space.\n",
    "Dropout - Perhaps, the most important term here is dropout. It is a regularization technique to regularize the deep neural network. It works by removing the input to the layers layers probabilistically which may be input variables in the data sample or activations from a previous layer. It makes the nodes in the network structure robust while simulating a large number of networks with different structures. Therefore, dropout reduces overfitting and helps in improving the model performance."
   ]
  },
  {
   "cell_type": "markdown",
   "metadata": {},
   "source": [
    "## Adding the second layer"
   ]
  },
  {
   "cell_type": "markdown",
   "metadata": {},
   "source": [
    "The following layers will have the same configuration as the first layer with the only difference being that in these layers we do not have to mention the input shape. That is obvious as we have already mentioned the shape of the matrix that we input while creating the first layer."
   ]
  },
  {
   "cell_type": "code",
   "execution_count": 11,
   "metadata": {},
   "outputs": [],
   "source": [
    "regressor.add(LSTM(units = 50, return_sequences = True))\n",
    "regressor.add(Dropout(0.2))"
   ]
  },
  {
   "cell_type": "markdown",
   "metadata": {},
   "source": [
    "## Adding the third layer"
   ]
  },
  {
   "cell_type": "code",
   "execution_count": 12,
   "metadata": {},
   "outputs": [],
   "source": [
    "regressor.add(LSTM(units = 50, return_sequences = True))\n",
    "regressor.add(Dropout(0.2))"
   ]
  },
  {
   "cell_type": "markdown",
   "metadata": {},
   "source": [
    "## Adding the fourth layer"
   ]
  },
  {
   "cell_type": "code",
   "execution_count": 13,
   "metadata": {},
   "outputs": [],
   "source": [
    "regressor.add(LSTM(units = 50))\n",
    "regressor.add(Dropout(0.2))"
   ]
  },
  {
   "cell_type": "markdown",
   "metadata": {},
   "source": [
    "Please note that we have added 4 layers in this model because we tried and found this to work best. You can try with different number of layers. Also, the number of layers depends on the problem statement."
   ]
  },
  {
   "cell_type": "markdown",
   "metadata": {},
   "source": [
    "## Adding the output layer"
   ]
  },
  {
   "cell_type": "markdown",
   "metadata": {},
   "source": [
    "We will now proceed to add the output layer. This is done by adding the dense layer. A dense layer is the deeply connected neural network layer. This is a bit towards the technical side. However, if you're here, we can safely assume that even if we use a few of them, you would be interested.\n",
    "The output of LSTM is not a softmax. We just get the internal state as the output. The dimensionality of the output is equal to the number of units which is mostly not the dimensionality that is desired. Therefore, a dense layer is added to solve this problem."
   ]
  },
  {
   "cell_type": "code",
   "execution_count": 14,
   "metadata": {},
   "outputs": [],
   "source": [
    "regressor.add(Dense(units = 1))"
   ]
  },
  {
   "cell_type": "markdown",
   "metadata": {},
   "source": [
    "## Compiling the RNN"
   ]
  },
  {
   "cell_type": "markdown",
   "metadata": {},
   "source": [
    "Perhaps the most important term to be noted while comparing the RNN is the optimizer.\n",
    "When we train the algorithm, then the derivatives involved in the algorithm can becomes very big (exploding gradient) or very small(vanishing gradient). To avoid this issue, we need to optimize the algorithm. It is done by weight initialization to the deep network. Now, there are several optimizers available. However, the most effecient and best is the adam optimizer. Adma stands for adaptive moment estimation.\n",
    "If you want to read in detail about the adam optimizer, you can go to the following link > https://machinelearningmastery.com/adam-optimization-algorithm-for-deep-learning/#:~:text=Adam%20is%20an%20optimization%20algorithm,iterative%20based%20in%20training%20data.&text=The%20algorithm%20is%20called%20Adam."
   ]
  },
  {
   "cell_type": "code",
   "execution_count": 15,
   "metadata": {},
   "outputs": [],
   "source": [
    "regressor.compile(optimizer = 'adam', loss = 'mean_squared_error')"
   ]
  },
  {
   "cell_type": "markdown",
   "metadata": {},
   "source": [
    "## Fitting RNN to the training set"
   ]
  },
  {
   "cell_type": "markdown",
   "metadata": {},
   "source": [
    "We now, fit the RNN to the training set. The two words, epochs and batch_size might seem confusing. However, to put them in simple plain english, batch size is the number of batches into which the data is split without repetition. These batches will run through the network, forward and backward. The number of times this is done is called the epochs. Here, we have put the epoch value as 100. You can go ahead and choose the number of epochs as per your convenience.\n",
    "Tip: The more the number of epochs you choose, the longer this takes to run. For us, on our system, with 100 epochs, this model took approximately 45 mins to run ! You can reduce the time by Google Colab instead of Jupyter notebook. We leave the choice of this to you."
   ]
  },
  {
   "cell_type": "code",
   "execution_count": 16,
   "metadata": {},
   "outputs": [
    {
     "name": "stdout",
     "output_type": "stream",
     "text": [
      "Epoch 1/100\n",
      "2415/2415 [==============================] - 41s 17ms/step - loss: 0.0200\n",
      "Epoch 2/100\n",
      "2415/2415 [==============================] - 33s 14ms/step - loss: 0.0035\n",
      "Epoch 3/100\n",
      "2415/2415 [==============================] - 36s 15ms/step - loss: 0.0031\n",
      "Epoch 4/100\n",
      "2415/2415 [==============================] - 35s 15ms/step - loss: 0.0029\n",
      "Epoch 5/100\n",
      "2415/2415 [==============================] - 34s 14ms/step - loss: 0.0027\n",
      "Epoch 6/100\n",
      "2415/2415 [==============================] - 33s 14ms/step - loss: 0.0028\n",
      "Epoch 7/100\n",
      "2415/2415 [==============================] - 32s 13ms/step - loss: 0.0025\n",
      "Epoch 8/100\n",
      "2415/2415 [==============================] - 36s 15ms/step - loss: 0.0024\n",
      "Epoch 9/100\n",
      "2415/2415 [==============================] - 40s 16ms/step - loss: 0.0023\n",
      "Epoch 10/100\n",
      "2415/2415 [==============================] - 38s 16ms/step - loss: 0.0026\n",
      "Epoch 11/100\n",
      "2415/2415 [==============================] - 33s 13ms/step - loss: 0.0024\n",
      "Epoch 12/100\n",
      "2415/2415 [==============================] - 31s 13ms/step - loss: 0.0023\n",
      "Epoch 13/100\n",
      "2415/2415 [==============================] - 33s 14ms/step - loss: 0.0022\n",
      "Epoch 14/100\n",
      "2415/2415 [==============================] - 35s 15ms/step - loss: 0.0021\n",
      "Epoch 15/100\n",
      "2415/2415 [==============================] - 35s 15ms/step - loss: 0.0021\n",
      "Epoch 16/100\n",
      "2415/2415 [==============================] - 34s 14ms/step - loss: 0.0019\n",
      "Epoch 17/100\n",
      "2415/2415 [==============================] - 34s 14ms/step - loss: 0.0019\n",
      "Epoch 18/100\n",
      "2415/2415 [==============================] - 37s 15ms/step - loss: 0.0018\n",
      "Epoch 19/100\n",
      "2415/2415 [==============================] - 38s 16ms/step - loss: 0.0018\n",
      "Epoch 20/100\n",
      "2415/2415 [==============================] - 35s 15ms/step - loss: 0.0020\n",
      "Epoch 21/100\n",
      "2415/2415 [==============================] - 33s 14ms/step - loss: 0.0019\n",
      "Epoch 22/100\n",
      "2415/2415 [==============================] - 34s 14ms/step - loss: 0.0017\n",
      "Epoch 23/100\n",
      "2415/2415 [==============================] - 35s 15ms/step - loss: 0.0017\n",
      "Epoch 24/100\n",
      "2415/2415 [==============================] - 38s 16ms/step - loss: 0.0016\n",
      "Epoch 25/100\n",
      "2415/2415 [==============================] - 38s 16ms/step - loss: 0.0015\n",
      "Epoch 26/100\n",
      "2415/2415 [==============================] - 34s 14ms/step - loss: 0.0015\n",
      "Epoch 27/100\n",
      "2415/2415 [==============================] - 36s 15ms/step - loss: 0.0016\n",
      "Epoch 28/100\n",
      "2415/2415 [==============================] - 34s 14ms/step - loss: 0.0015\n",
      "Epoch 29/100\n",
      "2415/2415 [==============================] - 35s 15ms/step - loss: 0.0014\n",
      "Epoch 30/100\n",
      "2415/2415 [==============================] - 36s 15ms/step - loss: 0.0013\n",
      "Epoch 31/100\n",
      "2415/2415 [==============================] - 33s 14ms/step - loss: 0.0013\n",
      "Epoch 32/100\n",
      "2415/2415 [==============================] - 35s 15ms/step - loss: 0.0013\n",
      "Epoch 33/100\n",
      "2415/2415 [==============================] - 34s 14ms/step - loss: 0.0012\n",
      "Epoch 34/100\n",
      "2415/2415 [==============================] - 37s 15ms/step - loss: 0.0012\n",
      "Epoch 35/100\n",
      "2415/2415 [==============================] - 35s 14ms/step - loss: 0.0013\n",
      "Epoch 36/100\n",
      "2415/2415 [==============================] - 34s 14ms/step - loss: 0.0012\n",
      "Epoch 37/100\n",
      "2415/2415 [==============================] - 35s 14ms/step - loss: 0.0011\n",
      "Epoch 38/100\n",
      "2415/2415 [==============================] - 34s 14ms/step - loss: 0.0011\n",
      "Epoch 39/100\n",
      "2415/2415 [==============================] - 36s 15ms/step - loss: 0.0012\n",
      "Epoch 40/100\n",
      "2415/2415 [==============================] - 33s 13ms/step - loss: 0.0013\n",
      "Epoch 41/100\n",
      "2415/2415 [==============================] - 32s 13ms/step - loss: 0.0010\n",
      "Epoch 42/100\n",
      "2415/2415 [==============================] - 32s 13ms/step - loss: 0.0011\n",
      "Epoch 43/100\n",
      "2415/2415 [==============================] - 33s 14ms/step - loss: 9.6377e-04\n",
      "Epoch 44/100\n",
      "2415/2415 [==============================] - 33s 14ms/step - loss: 0.0010\n",
      "Epoch 45/100\n",
      "2415/2415 [==============================] - 32s 13ms/step - loss: 0.0010\n",
      "Epoch 46/100\n",
      "2415/2415 [==============================] - 34s 14ms/step - loss: 9.8098e-04\n",
      "Epoch 47/100\n",
      "2415/2415 [==============================] - 34s 14ms/step - loss: 9.6521e-04\n",
      "Epoch 48/100\n",
      "2415/2415 [==============================] - 48s 20ms/step - loss: 9.9208e-04\n",
      "Epoch 49/100\n",
      "2415/2415 [==============================] - 36s 15ms/step - loss: 9.3871e-04\n",
      "Epoch 50/100\n",
      "2415/2415 [==============================] - 48s 20ms/step - loss: 9.1630e-04\n",
      "Epoch 51/100\n",
      "2415/2415 [==============================] - 45s 19ms/step - loss: 9.4626e-04\n",
      "Epoch 52/100\n",
      "2415/2415 [==============================] - 36s 15ms/step - loss: 8.6564e-04\n",
      "Epoch 53/100\n",
      "2415/2415 [==============================] - 33s 14ms/step - loss: 9.3345e-04\n",
      "Epoch 54/100\n",
      "2415/2415 [==============================] - 35s 15ms/step - loss: 8.1654e-04\n",
      "Epoch 55/100\n",
      "2415/2415 [==============================] - 34s 14ms/step - loss: 7.8174e-04\n",
      "Epoch 56/100\n",
      "2415/2415 [==============================] - 38s 16ms/step - loss: 7.9515e-04\n",
      "Epoch 57/100\n",
      "2415/2415 [==============================] - 36s 15ms/step - loss: 7.7453e-04\n",
      "Epoch 58/100\n",
      "2415/2415 [==============================] - 38s 16ms/step - loss: 7.9930e-04\n",
      "Epoch 59/100\n",
      "2415/2415 [==============================] - 36s 15ms/step - loss: 7.1627e-04\n",
      "Epoch 60/100\n",
      "2415/2415 [==============================] - 32s 13ms/step - loss: 7.7470e-04\n",
      "Epoch 61/100\n",
      "2415/2415 [==============================] - 33s 14ms/step - loss: 7.6402e-04\n",
      "Epoch 62/100\n",
      "2415/2415 [==============================] - 32s 13ms/step - loss: 7.7019e-04\n",
      "Epoch 63/100\n",
      "2415/2415 [==============================] - 33s 14ms/step - loss: 7.7856e-04\n",
      "Epoch 64/100\n",
      "2415/2415 [==============================] - 32s 13ms/step - loss: 8.3861e-04\n",
      "Epoch 65/100\n",
      "2415/2415 [==============================] - 33s 14ms/step - loss: 7.3964e-04\n",
      "Epoch 66/100\n",
      "2415/2415 [==============================] - 34s 14ms/step - loss: 7.0524e-04\n",
      "Epoch 67/100\n",
      "2415/2415 [==============================] - 32s 13ms/step - loss: 7.5332e-04\n",
      "Epoch 68/100\n",
      "2415/2415 [==============================] - 34s 14ms/step - loss: 7.1308e-04\n",
      "Epoch 69/100\n",
      "2415/2415 [==============================] - 36s 15ms/step - loss: 7.1269e-04\n",
      "Epoch 70/100\n",
      "2415/2415 [==============================] - 35s 15ms/step - loss: 6.4942e-04\n",
      "Epoch 71/100\n",
      "2415/2415 [==============================] - 33s 14ms/step - loss: 7.4827e-04\n",
      "Epoch 72/100\n",
      "2415/2415 [==============================] - 33s 14ms/step - loss: 6.7992e-04\n",
      "Epoch 73/100\n",
      "2415/2415 [==============================] - 34s 14ms/step - loss: 6.6862e-04\n",
      "Epoch 74/100\n",
      "2415/2415 [==============================] - 34s 14ms/step - loss: 7.2458e-04\n",
      "Epoch 75/100\n",
      "2415/2415 [==============================] - 36s 15ms/step - loss: 6.7791e-04\n",
      "Epoch 76/100\n",
      "2415/2415 [==============================] - 34s 14ms/step - loss: 6.8206e-04\n",
      "Epoch 77/100\n",
      "2415/2415 [==============================] - 37s 15ms/step - loss: 6.2703e-04\n",
      "Epoch 78/100\n",
      "2415/2415 [==============================] - 41s 17ms/step - loss: 6.0945e-04\n",
      "Epoch 79/100\n",
      "2415/2415 [==============================] - 36s 15ms/step - loss: 6.3153e-04\n",
      "Epoch 80/100\n",
      "2415/2415 [==============================] - 37s 16ms/step - loss: 6.5146e-04\n",
      "Epoch 81/100\n",
      "2415/2415 [==============================] - 34s 14ms/step - loss: 7.2898e-04\n",
      "Epoch 82/100\n",
      "2415/2415 [==============================] - 34s 14ms/step - loss: 6.6989e-04\n",
      "Epoch 83/100\n",
      "2415/2415 [==============================] - 34s 14ms/step - loss: 7.9920e-04\n",
      "Epoch 84/100\n",
      "2415/2415 [==============================] - 34s 14ms/step - loss: 6.2112e-04\n",
      "Epoch 85/100\n",
      "2415/2415 [==============================] - 36s 15ms/step - loss: 5.8189e-04\n",
      "Epoch 86/100\n",
      "2415/2415 [==============================] - 35s 14ms/step - loss: 5.7564e-04\n",
      "Epoch 87/100\n",
      "2415/2415 [==============================] - 36s 15ms/step - loss: 6.4349e-04\n",
      "Epoch 88/100\n",
      "2415/2415 [==============================] - 34s 14ms/step - loss: 6.3829e-04\n",
      "Epoch 89/100\n",
      "2415/2415 [==============================] - 36s 15ms/step - loss: 6.0846e-04\n",
      "Epoch 90/100\n",
      "2415/2415 [==============================] - 32s 13ms/step - loss: 5.3934e-04\n",
      "Epoch 91/100\n",
      "2415/2415 [==============================] - 32s 13ms/step - loss: 5.7601e-04\n",
      "Epoch 92/100\n",
      "2415/2415 [==============================] - 32s 13ms/step - loss: 5.4249e-04\n",
      "Epoch 93/100\n"
     ]
    },
    {
     "name": "stdout",
     "output_type": "stream",
     "text": [
      "2415/2415 [==============================] - 32s 13ms/step - loss: 6.2725e-04\n",
      "Epoch 94/100\n",
      "2415/2415 [==============================] - 32s 13ms/step - loss: 5.3960e-04\n",
      "Epoch 95/100\n",
      "2415/2415 [==============================] - 33s 14ms/step - loss: 5.3352e-04\n",
      "Epoch 96/100\n",
      "2415/2415 [==============================] - 32s 13ms/step - loss: 7.7505e-04\n",
      "Epoch 97/100\n",
      "2415/2415 [==============================] - 32s 13ms/step - loss: 5.6824e-04\n",
      "Epoch 98/100\n",
      "2415/2415 [==============================] - 32s 13ms/step - loss: 5.6082e-04\n",
      "Epoch 99/100\n",
      "2415/2415 [==============================] - 31s 13ms/step - loss: 5.5715e-04\n",
      "Epoch 100/100\n",
      "2415/2415 [==============================] - 32s 13ms/step - loss: 5.6405e-04\n"
     ]
    },
    {
     "data": {
      "text/plain": [
       "<keras.callbacks.callbacks.History at 0x19f91341048>"
      ]
     },
     "execution_count": 16,
     "metadata": {},
     "output_type": "execute_result"
    }
   ],
   "source": [
    "regressor.fit(X_train, y_train, epochs = 100, batch_size = 32)"
   ]
  },
  {
   "cell_type": "markdown",
   "metadata": {},
   "source": [
    "Now that we have trained our model, it is time for us to check how it performs on the test set. For doing that, we first import the test dataset. We had created the dataset before. It comprises of the Nifty50 data of the year 2019."
   ]
  },
  {
   "cell_type": "code",
   "execution_count": 26,
   "metadata": {},
   "outputs": [],
   "source": [
    "dataset_test = pd.read_excel('Nifty_test.xlsx')\n",
    "real_stock_price = dataset_test.iloc[:, 1:2].values"
   ]
  },
  {
   "cell_type": "markdown",
   "metadata": {},
   "source": [
    "## Prediction for 2019"
   ]
  },
  {
   "cell_type": "code",
   "execution_count": 18,
   "metadata": {},
   "outputs": [],
   "source": [
    "dataset_total = pd.concat((dataset_train['Price'],dataset_test['Price']), axis = 0)\n",
    "inputs = dataset_total[len(dataset_total) - len(dataset_test) - 60:].values\n",
    "inputs = inputs.reshape(-1,1)\n",
    "inputs = sc.transform(inputs)\n",
    "X_test = []\n",
    "for i in range(60, 304):\n",
    "    X_test.append(inputs[i-60:i, 0])\n",
    "X_test = np.array(X_test)\n",
    "X_test = np.reshape(X_test, (X_test.shape[0], X_test.shape[1], 1))\n",
    "predicted_stock_price = regressor.predict(X_test)\n",
    "predicted_stock_price = sc.inverse_transform(predicted_stock_price)"
   ]
  },
  {
   "cell_type": "markdown",
   "metadata": {},
   "source": [
    "## Visualizing the result"
   ]
  },
  {
   "cell_type": "code",
   "execution_count": 27,
   "metadata": {},
   "outputs": [
    {
     "data": {
      "image/png": "[encoded data removed]",
      "text/plain": [
       "<Figure size 432x288 with 1 Axes>"
      ]
     },
     "metadata": {
      "needs_background": "light"
     },
     "output_type": "display_data"
    }
   ],
   "source": [
    "plt.plot(real_stock_price, color = 'red', label = 'Real Nifty Price')\n",
    "plt.plot(predicted_stock_price, color = 'blue', label = 'Predicted Nifty Price')\n",
    "plt.title('Nifty Price Prediction')\n",
    "plt.xlabel('Time')\n",
    "plt.ylabel('Nifty Price')\n",
    "plt.legend()\n",
    "plt.show()"
   ]
  },
  {
   "cell_type": "markdown",
   "metadata": {},
   "source": [
    "The graph above seems to have fit the data for the entire year pretty much alright. That's the world of RNN !"
   ]
  },
  {
   "cell_type": "markdown",
   "metadata": {},
   "source": [
    "However, to get a clearer picture, let's see the performance metrics. To measure them, we have chosen to measure mean squared error, mean absolute error and the mean squared log error."
   ]
  },
  {
   "cell_type": "code",
   "execution_count": 29,
   "metadata": {},
   "outputs": [
    {
     "name": "stdout",
     "output_type": "stream",
     "text": [
      "The mean squared error (MSE) =  44148.30338861561\n",
      "The mean absolute error (MAS) =  175.73955558401641\n",
      "The mean squared log error (MSLE) =  0.0003313896287093362\n"
     ]
    }
   ],
   "source": [
    "from sklearn.metrics import mean_squared_error, mean_absolute_error, mean_squared_log_error\n",
    "\n",
    "print(\"The mean squared error (MSE) = \", mean_squared_error(real_stock_price, predicted_stock_price))\n",
    "print(\"The mean absolute error (MAS) = \", mean_absolute_error(real_stock_price, predicted_stock_price))\n",
    "print(\"The mean squared log error (MSLE) = \", mean_squared_log_error(real_stock_price, predicted_stock_price))"
   ]
  }
 ],
 "metadata": {
  "kernelspec": {
   "display_name": "Python 3",
   "language": "python",
   "name": "python3"
  },
  "language_info": {
   "codemirror_mode": {
    "name": "ipython",
    "version": 3
   },
   "file_extension": ".py",
   "mimetype": "text/x-python",
   "name": "python",
   "nbconvert_exporter": "python",
   "pygments_lexer": "ipython3",
   "version": "3.8.2"
  }
 },
 "nbformat": 4,
 "nbformat_minor": 2
}
